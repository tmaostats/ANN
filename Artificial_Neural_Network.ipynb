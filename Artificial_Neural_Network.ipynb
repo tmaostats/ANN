{
 "cells": [
  {
   "cell_type": "markdown",
   "metadata": {},
   "source": [
    "# Artificial Neural Network\n",
    "\n",
    "- Installing Theano\n",
    "conda install theano\n",
    "\n",
    "- Installing Tensorflow\n",
    "conda install tensorflow\n",
    "\n",
    "- Installing Keras\n",
    "conda install keras"
   ]
  },
  {
   "cell_type": "markdown",
   "metadata": {},
   "source": [
    "## Part I - Data Preprocessing"
   ]
  },
  {
   "cell_type": "code",
   "execution_count": 1,
   "metadata": {},
   "outputs": [],
   "source": [
    "# Importing the libraries\n",
    "import numpy as np\n",
    "import matplotlib.pyplot as plt\n",
    "import pandas as pd"
   ]
  },
  {
   "cell_type": "code",
   "execution_count": 2,
   "metadata": {},
   "outputs": [],
   "source": [
    "# Importing dataset\n",
    "dataset = pd.read_csv(\"D:\\\\Tensorflow\\\\Churn_Modelling.csv\")"
   ]
  },
  {
   "cell_type": "code",
   "execution_count": 3,
   "metadata": {},
   "outputs": [
    {
     "data": {
      "text/html": [
       "<div>\n",
       "<style scoped>\n",
       "    .dataframe tbody tr th:only-of-type {\n",
       "        vertical-align: middle;\n",
       "    }\n",
       "\n",
       "    .dataframe tbody tr th {\n",
       "        vertical-align: top;\n",
       "    }\n",
       "\n",
       "    .dataframe thead th {\n",
       "        text-align: right;\n",
       "    }\n",
       "</style>\n",
       "<table border=\"1\" class=\"dataframe\">\n",
       "  <thead>\n",
       "    <tr style=\"text-align: right;\">\n",
       "      <th></th>\n",
       "      <th>RowNumber</th>\n",
       "      <th>CustomerId</th>\n",
       "      <th>Surname</th>\n",
       "      <th>CreditScore</th>\n",
       "      <th>Geography</th>\n",
       "      <th>Gender</th>\n",
       "      <th>Age</th>\n",
       "      <th>Tenure</th>\n",
       "      <th>Balance</th>\n",
       "      <th>NumOfProducts</th>\n",
       "      <th>HasCrCard</th>\n",
       "      <th>IsActiveMember</th>\n",
       "      <th>EstimatedSalary</th>\n",
       "      <th>Exited</th>\n",
       "    </tr>\n",
       "  </thead>\n",
       "  <tbody>\n",
       "    <tr>\n",
       "      <th>0</th>\n",
       "      <td>1</td>\n",
       "      <td>15634602</td>\n",
       "      <td>Hargrave</td>\n",
       "      <td>619</td>\n",
       "      <td>France</td>\n",
       "      <td>Female</td>\n",
       "      <td>42</td>\n",
       "      <td>2</td>\n",
       "      <td>0.00</td>\n",
       "      <td>1</td>\n",
       "      <td>1</td>\n",
       "      <td>1</td>\n",
       "      <td>101348.88</td>\n",
       "      <td>1</td>\n",
       "    </tr>\n",
       "    <tr>\n",
       "      <th>1</th>\n",
       "      <td>2</td>\n",
       "      <td>15647311</td>\n",
       "      <td>Hill</td>\n",
       "      <td>608</td>\n",
       "      <td>Spain</td>\n",
       "      <td>Female</td>\n",
       "      <td>41</td>\n",
       "      <td>1</td>\n",
       "      <td>83807.86</td>\n",
       "      <td>1</td>\n",
       "      <td>0</td>\n",
       "      <td>1</td>\n",
       "      <td>112542.58</td>\n",
       "      <td>0</td>\n",
       "    </tr>\n",
       "    <tr>\n",
       "      <th>2</th>\n",
       "      <td>3</td>\n",
       "      <td>15619304</td>\n",
       "      <td>Onio</td>\n",
       "      <td>502</td>\n",
       "      <td>France</td>\n",
       "      <td>Female</td>\n",
       "      <td>42</td>\n",
       "      <td>8</td>\n",
       "      <td>159660.80</td>\n",
       "      <td>3</td>\n",
       "      <td>1</td>\n",
       "      <td>0</td>\n",
       "      <td>113931.57</td>\n",
       "      <td>1</td>\n",
       "    </tr>\n",
       "    <tr>\n",
       "      <th>3</th>\n",
       "      <td>4</td>\n",
       "      <td>15701354</td>\n",
       "      <td>Boni</td>\n",
       "      <td>699</td>\n",
       "      <td>France</td>\n",
       "      <td>Female</td>\n",
       "      <td>39</td>\n",
       "      <td>1</td>\n",
       "      <td>0.00</td>\n",
       "      <td>2</td>\n",
       "      <td>0</td>\n",
       "      <td>0</td>\n",
       "      <td>93826.63</td>\n",
       "      <td>0</td>\n",
       "    </tr>\n",
       "    <tr>\n",
       "      <th>4</th>\n",
       "      <td>5</td>\n",
       "      <td>15737888</td>\n",
       "      <td>Mitchell</td>\n",
       "      <td>850</td>\n",
       "      <td>Spain</td>\n",
       "      <td>Female</td>\n",
       "      <td>43</td>\n",
       "      <td>2</td>\n",
       "      <td>125510.82</td>\n",
       "      <td>1</td>\n",
       "      <td>1</td>\n",
       "      <td>1</td>\n",
       "      <td>79084.10</td>\n",
       "      <td>0</td>\n",
       "    </tr>\n",
       "  </tbody>\n",
       "</table>\n",
       "</div>"
      ],
      "text/plain": [
       "   RowNumber  CustomerId   Surname  CreditScore Geography  Gender  Age  \\\n",
       "0          1    15634602  Hargrave          619    France  Female   42   \n",
       "1          2    15647311      Hill          608     Spain  Female   41   \n",
       "2          3    15619304      Onio          502    France  Female   42   \n",
       "3          4    15701354      Boni          699    France  Female   39   \n",
       "4          5    15737888  Mitchell          850     Spain  Female   43   \n",
       "\n",
       "   Tenure    Balance  NumOfProducts  HasCrCard  IsActiveMember  \\\n",
       "0       2       0.00              1          1               1   \n",
       "1       1   83807.86              1          0               1   \n",
       "2       8  159660.80              3          1               0   \n",
       "3       1       0.00              2          0               0   \n",
       "4       2  125510.82              1          1               1   \n",
       "\n",
       "   EstimatedSalary  Exited  \n",
       "0        101348.88       1  \n",
       "1        112542.58       0  \n",
       "2        113931.57       1  \n",
       "3         93826.63       0  \n",
       "4         79084.10       0  "
      ]
     },
     "execution_count": 3,
     "metadata": {},
     "output_type": "execute_result"
    }
   ],
   "source": [
    "dataset.head()"
   ]
  },
  {
   "cell_type": "code",
   "execution_count": 4,
   "metadata": {},
   "outputs": [
    {
     "name": "stdout",
     "output_type": "stream",
     "text": [
      "<class 'pandas.core.frame.DataFrame'>\n",
      "RangeIndex: 10000 entries, 0 to 9999\n",
      "Data columns (total 14 columns):\n",
      "RowNumber          10000 non-null int64\n",
      "CustomerId         10000 non-null int64\n",
      "Surname            10000 non-null object\n",
      "CreditScore        10000 non-null int64\n",
      "Geography          10000 non-null object\n",
      "Gender             10000 non-null object\n",
      "Age                10000 non-null int64\n",
      "Tenure             10000 non-null int64\n",
      "Balance            10000 non-null float64\n",
      "NumOfProducts      10000 non-null int64\n",
      "HasCrCard          10000 non-null int64\n",
      "IsActiveMember     10000 non-null int64\n",
      "EstimatedSalary    10000 non-null float64\n",
      "Exited             10000 non-null int64\n",
      "dtypes: float64(2), int64(9), object(3)\n",
      "memory usage: 1.1+ MB\n"
     ]
    }
   ],
   "source": [
    "dataset.info()"
   ]
  },
  {
   "cell_type": "code",
   "execution_count": 5,
   "metadata": {},
   "outputs": [
    {
     "data": {
      "text/plain": [
       "(10000, 14)"
      ]
     },
     "execution_count": 5,
     "metadata": {},
     "output_type": "execute_result"
    }
   ],
   "source": [
    "dataset.shape"
   ]
  },
  {
   "cell_type": "code",
   "execution_count": 6,
   "metadata": {},
   "outputs": [],
   "source": [
    "# independent variables include the index from 3 to 12\n",
    "# dependent variable is index 12\n",
    "x = dataset.iloc[:, 3:13].values\n",
    "y = dataset.iloc[:, 13].values"
   ]
  },
  {
   "cell_type": "code",
   "execution_count": 7,
   "metadata": {},
   "outputs": [
    {
     "data": {
      "text/html": [
       "<div>\n",
       "<style scoped>\n",
       "    .dataframe tbody tr th:only-of-type {\n",
       "        vertical-align: middle;\n",
       "    }\n",
       "\n",
       "    .dataframe tbody tr th {\n",
       "        vertical-align: top;\n",
       "    }\n",
       "\n",
       "    .dataframe thead th {\n",
       "        text-align: right;\n",
       "    }\n",
       "</style>\n",
       "<table border=\"1\" class=\"dataframe\">\n",
       "  <thead>\n",
       "    <tr style=\"text-align: right;\">\n",
       "      <th></th>\n",
       "      <th>RowNumber</th>\n",
       "      <th>CustomerId</th>\n",
       "      <th>Surname</th>\n",
       "      <th>CreditScore</th>\n",
       "      <th>Geography</th>\n",
       "      <th>Gender</th>\n",
       "      <th>Age</th>\n",
       "      <th>Tenure</th>\n",
       "      <th>Balance</th>\n",
       "      <th>NumOfProducts</th>\n",
       "      <th>HasCrCard</th>\n",
       "      <th>IsActiveMember</th>\n",
       "      <th>EstimatedSalary</th>\n",
       "      <th>Exited</th>\n",
       "    </tr>\n",
       "  </thead>\n",
       "  <tbody>\n",
       "    <tr>\n",
       "      <th>0</th>\n",
       "      <td>1</td>\n",
       "      <td>15634602</td>\n",
       "      <td>Hargrave</td>\n",
       "      <td>619</td>\n",
       "      <td>France</td>\n",
       "      <td>Female</td>\n",
       "      <td>42</td>\n",
       "      <td>2</td>\n",
       "      <td>0.00</td>\n",
       "      <td>1</td>\n",
       "      <td>1</td>\n",
       "      <td>1</td>\n",
       "      <td>101348.88</td>\n",
       "      <td>1</td>\n",
       "    </tr>\n",
       "    <tr>\n",
       "      <th>1</th>\n",
       "      <td>2</td>\n",
       "      <td>15647311</td>\n",
       "      <td>Hill</td>\n",
       "      <td>608</td>\n",
       "      <td>Spain</td>\n",
       "      <td>Female</td>\n",
       "      <td>41</td>\n",
       "      <td>1</td>\n",
       "      <td>83807.86</td>\n",
       "      <td>1</td>\n",
       "      <td>0</td>\n",
       "      <td>1</td>\n",
       "      <td>112542.58</td>\n",
       "      <td>0</td>\n",
       "    </tr>\n",
       "    <tr>\n",
       "      <th>2</th>\n",
       "      <td>3</td>\n",
       "      <td>15619304</td>\n",
       "      <td>Onio</td>\n",
       "      <td>502</td>\n",
       "      <td>France</td>\n",
       "      <td>Female</td>\n",
       "      <td>42</td>\n",
       "      <td>8</td>\n",
       "      <td>159660.80</td>\n",
       "      <td>3</td>\n",
       "      <td>1</td>\n",
       "      <td>0</td>\n",
       "      <td>113931.57</td>\n",
       "      <td>1</td>\n",
       "    </tr>\n",
       "    <tr>\n",
       "      <th>3</th>\n",
       "      <td>4</td>\n",
       "      <td>15701354</td>\n",
       "      <td>Boni</td>\n",
       "      <td>699</td>\n",
       "      <td>France</td>\n",
       "      <td>Female</td>\n",
       "      <td>39</td>\n",
       "      <td>1</td>\n",
       "      <td>0.00</td>\n",
       "      <td>2</td>\n",
       "      <td>0</td>\n",
       "      <td>0</td>\n",
       "      <td>93826.63</td>\n",
       "      <td>0</td>\n",
       "    </tr>\n",
       "    <tr>\n",
       "      <th>4</th>\n",
       "      <td>5</td>\n",
       "      <td>15737888</td>\n",
       "      <td>Mitchell</td>\n",
       "      <td>850</td>\n",
       "      <td>Spain</td>\n",
       "      <td>Female</td>\n",
       "      <td>43</td>\n",
       "      <td>2</td>\n",
       "      <td>125510.82</td>\n",
       "      <td>1</td>\n",
       "      <td>1</td>\n",
       "      <td>1</td>\n",
       "      <td>79084.10</td>\n",
       "      <td>0</td>\n",
       "    </tr>\n",
       "  </tbody>\n",
       "</table>\n",
       "</div>"
      ],
      "text/plain": [
       "   RowNumber  CustomerId   Surname  CreditScore Geography  Gender  Age  \\\n",
       "0          1    15634602  Hargrave          619    France  Female   42   \n",
       "1          2    15647311      Hill          608     Spain  Female   41   \n",
       "2          3    15619304      Onio          502    France  Female   42   \n",
       "3          4    15701354      Boni          699    France  Female   39   \n",
       "4          5    15737888  Mitchell          850     Spain  Female   43   \n",
       "\n",
       "   Tenure    Balance  NumOfProducts  HasCrCard  IsActiveMember  \\\n",
       "0       2       0.00              1          1               1   \n",
       "1       1   83807.86              1          0               1   \n",
       "2       8  159660.80              3          1               0   \n",
       "3       1       0.00              2          0               0   \n",
       "4       2  125510.82              1          1               1   \n",
       "\n",
       "   EstimatedSalary  Exited  \n",
       "0        101348.88       1  \n",
       "1        112542.58       0  \n",
       "2        113931.57       1  \n",
       "3         93826.63       0  \n",
       "4         79084.10       0  "
      ]
     },
     "execution_count": 7,
     "metadata": {},
     "output_type": "execute_result"
    }
   ],
   "source": [
    "dataset.head(5)"
   ]
  },
  {
   "cell_type": "code",
   "execution_count": 9,
   "metadata": {},
   "outputs": [
    {
     "data": {
      "text/plain": [
       "array([[619, 'France', 'Female', 42, 2, 0.0, 1, 1, 1, 101348.88],\n",
       "       [608, 'Spain', 'Female', 41, 1, 83807.86, 1, 0, 1, 112542.58],\n",
       "       [502, 'France', 'Female', 42, 8, 159660.8, 3, 1, 0, 113931.57],\n",
       "       [699, 'France', 'Female', 39, 1, 0.0, 2, 0, 0, 93826.63],\n",
       "       [850, 'Spain', 'Female', 43, 2, 125510.82, 1, 1, 1, 79084.1]],\n",
       "      dtype=object)"
      ]
     },
     "execution_count": 9,
     "metadata": {},
     "output_type": "execute_result"
    }
   ],
   "source": [
    "x[0:5,]"
   ]
  },
  {
   "cell_type": "code",
   "execution_count": 10,
   "metadata": {},
   "outputs": [],
   "source": [
    "# Encoding categorical data (country and gender)\n",
    "from sklearn.preprocessing import LabelEncoder, OneHotEncoder\n",
    "labelencoder_x_1 = LabelEncoder()\n",
    "x[:, 1] = labelencoder_x_1.fit_transform(x[:,1])\n",
    "\n",
    "labelencoder_x_2 = LabelEncoder()\n",
    "x[:, 2] = labelencoder_x_2.fit_transform(x[:,2])"
   ]
  },
  {
   "cell_type": "code",
   "execution_count": 11,
   "metadata": {},
   "outputs": [
    {
     "name": "stdout",
     "output_type": "stream",
     "text": [
      "[[619 0 0 ... 1 1 101348.88]\n",
      " [608 2 0 ... 0 1 112542.58]\n",
      " [502 0 0 ... 1 0 113931.57]\n",
      " ...\n",
      " [709 0 0 ... 0 1 42085.58]\n",
      " [772 1 1 ... 1 0 92888.52]\n",
      " [792 0 0 ... 1 0 38190.78]]\n"
     ]
    }
   ],
   "source": [
    "print(x)"
   ]
  },
  {
   "cell_type": "code",
   "execution_count": 12,
   "metadata": {},
   "outputs": [
    {
     "name": "stderr",
     "output_type": "stream",
     "text": [
      "C:\\ProgramData\\Anaconda3\\lib\\site-packages\\sklearn\\preprocessing\\_encoders.py:368: FutureWarning: The handling of integer data will change in version 0.22. Currently, the categories are determined based on the range [0, max(values)], while in the future they will be determined based on the unique values.\n",
      "If you want the future behaviour and silence this warning, you can specify \"categories='auto'\".\n",
      "In case you used a LabelEncoder before this OneHotEncoder to convert the categories to integers, then you can now use the OneHotEncoder directly.\n",
      "  warnings.warn(msg, FutureWarning)\n",
      "C:\\ProgramData\\Anaconda3\\lib\\site-packages\\sklearn\\preprocessing\\_encoders.py:390: DeprecationWarning: The 'categorical_features' keyword is deprecated in version 0.20 and will be removed in 0.22. You can use the ColumnTransformer instead.\n",
      "  \"use the ColumnTransformer instead.\", DeprecationWarning)\n"
     ]
    }
   ],
   "source": [
    "onehotencoder = OneHotEncoder(categorical_features=[1])\n",
    "x = onehotencoder.fit_transform(x).toarray()\n",
    "x = x[:, 1:]"
   ]
  },
  {
   "cell_type": "code",
   "execution_count": 14,
   "metadata": {},
   "outputs": [
    {
     "name": "stdout",
     "output_type": "stream",
     "text": [
      "[[0.0000000e+00 0.0000000e+00 6.1900000e+02 ... 1.0000000e+00\n",
      "  1.0000000e+00 1.0134888e+05]\n",
      " [0.0000000e+00 1.0000000e+00 6.0800000e+02 ... 0.0000000e+00\n",
      "  1.0000000e+00 1.1254258e+05]\n",
      " [0.0000000e+00 0.0000000e+00 5.0200000e+02 ... 1.0000000e+00\n",
      "  0.0000000e+00 1.1393157e+05]\n",
      " ...\n",
      " [0.0000000e+00 0.0000000e+00 7.0900000e+02 ... 0.0000000e+00\n",
      "  1.0000000e+00 4.2085580e+04]\n",
      " [1.0000000e+00 0.0000000e+00 7.7200000e+02 ... 1.0000000e+00\n",
      "  0.0000000e+00 9.2888520e+04]\n",
      " [0.0000000e+00 0.0000000e+00 7.9200000e+02 ... 1.0000000e+00\n",
      "  0.0000000e+00 3.8190780e+04]]\n"
     ]
    }
   ],
   "source": [
    "print(x)"
   ]
  },
  {
   "cell_type": "markdown",
   "metadata": {},
   "source": [
    "### Splitting the dataset into the Training set and Test set"
   ]
  },
  {
   "cell_type": "code",
   "execution_count": 15,
   "metadata": {},
   "outputs": [],
   "source": [
    "from sklearn.model_selection import train_test_split\n",
    "X_train, X_test, y_train, y_test = train_test_split(x, y, test_size=0.2, random_state=0)"
   ]
  },
  {
   "cell_type": "markdown",
   "metadata": {},
   "source": [
    "### Feature Scaling"
   ]
  },
  {
   "cell_type": "code",
   "execution_count": 16,
   "metadata": {},
   "outputs": [],
   "source": [
    "from sklearn.preprocessing import StandardScaler\n",
    "sc = StandardScaler()\n",
    "X_train = sc.fit_transform(X_train)\n",
    "X_test = sc.fit_transform(X_test)"
   ]
  },
  {
   "cell_type": "code",
   "execution_count": 17,
   "metadata": {},
   "outputs": [
    {
     "data": {
      "text/plain": [
       "(8000, 11)"
      ]
     },
     "execution_count": 17,
     "metadata": {},
     "output_type": "execute_result"
    }
   ],
   "source": [
    "X_train.shape"
   ]
  },
  {
   "cell_type": "markdown",
   "metadata": {},
   "source": [
    "## Part II - Let's make the ANN!"
   ]
  },
  {
   "cell_type": "code",
   "execution_count": 18,
   "metadata": {},
   "outputs": [
    {
     "name": "stderr",
     "output_type": "stream",
     "text": [
      "Using TensorFlow backend.\n"
     ]
    }
   ],
   "source": [
    "# Importing the Keras libraries and packages\n",
    "import keras\n",
    "from keras.models import Sequential\n",
    "from keras.layers import Dense"
   ]
  },
  {
   "cell_type": "code",
   "execution_count": 19,
   "metadata": {},
   "outputs": [],
   "source": [
    "# Initialising the ANN\n",
    "classifier = Sequential()"
   ]
  },
  {
   "cell_type": "code",
   "execution_count": 20,
   "metadata": {},
   "outputs": [
    {
     "name": "stderr",
     "output_type": "stream",
     "text": [
      "C:\\ProgramData\\Anaconda3\\lib\\site-packages\\ipykernel_launcher.py:2: UserWarning: Update your `Dense` call to the Keras 2 API: `Dense(activation=\"relu\", input_dim=11, units=6, kernel_initializer=\"uniform\")`\n",
      "  \n"
     ]
    }
   ],
   "source": [
    "# Adding the input layer and first hidden layer\n",
    "classifier.add(Dense(output_dim=6, init='uniform', activation='relu',input_dim=11)) # add different layers in the neural network\n",
    "# the hidden node=(11+1)/2 (which is 11 input node, 1 output node),initialize the weight with unifrom function,input_dim=11 as we have 11 independent variables\n"
   ]
  },
  {
   "cell_type": "code",
   "execution_count": 21,
   "metadata": {},
   "outputs": [
    {
     "name": "stderr",
     "output_type": "stream",
     "text": [
      "C:\\ProgramData\\Anaconda3\\lib\\site-packages\\ipykernel_launcher.py:2: UserWarning: Update your `Dense` call to the Keras 2 API: `Dense(activation=\"relu\", units=6, kernel_initializer=\"uniform\")`\n",
      "  \n"
     ]
    }
   ],
   "source": [
    "# Adding the second hidden layer\n",
    "classifier.add(Dense(output_dim=6, init='uniform', activation='relu'))\n",
    "# as the second layer we will know what to expect because the first hidden layer was created, erase input_dim"
   ]
  },
  {
   "cell_type": "code",
   "execution_count": 22,
   "metadata": {},
   "outputs": [
    {
     "name": "stderr",
     "output_type": "stream",
     "text": [
      "C:\\ProgramData\\Anaconda3\\lib\\site-packages\\ipykernel_launcher.py:2: UserWarning: Update your `Dense` call to the Keras 2 API: `Dense(activation=\"sigmoid\", units=1, kernel_initializer=\"uniform\")`\n",
      "  \n"
     ]
    }
   ],
   "source": [
    "# Add the output layer\n",
    "classifier.add(Dense(output_dim=1, init='uniform', activation='sigmoid'))\n",
    "# if we have output variable with more than two categories then activation function use softmax"
   ]
  },
  {
   "cell_type": "code",
   "execution_count": 23,
   "metadata": {},
   "outputs": [],
   "source": [
    "# Compling the ANN(apply stochastic gradient descent on the whole ANN)\n",
    "classifier.compile(optimizer='adam', loss='binary_crossentropy', metrics=['accuracy'])\n",
    "# till now all the weights are still initialized,apply an algorithm to find the best weights,efficient one is Adam\n",
    "# if the dependent variable has binary outcome then its binary_cross entropy, if its more than two outcomes then catigorical_cross entropy "
   ]
  },
  {
   "cell_type": "code",
   "execution_count": 24,
   "metadata": {},
   "outputs": [
    {
     "name": "stdout",
     "output_type": "stream",
     "text": [
      "Epoch 1/100\n",
      "8000/8000 [==============================] - 14s 2ms/step - loss: 0.4357 - acc: 0.8100\n",
      "Epoch 2/100\n",
      "8000/8000 [==============================] - 15s 2ms/step - loss: 0.4032 - acc: 0.8300\n",
      "Epoch 3/100\n",
      "8000/8000 [==============================] - 14s 2ms/step - loss: 0.3824 - acc: 0.8371\n",
      "Epoch 4/100\n",
      "8000/8000 [==============================] - 15s 2ms/step - loss: 0.3750 - acc: 0.8455\n",
      "Epoch 5/100\n",
      "8000/8000 [==============================] - 14s 2ms/step - loss: 0.3689 - acc: 0.8490\n",
      "Epoch 6/100\n",
      "8000/8000 [==============================] - 15s 2ms/step - loss: 0.3619 - acc: 0.8490\n",
      "Epoch 7/100\n",
      "8000/8000 [==============================] - 14s 2ms/step - loss: 0.3612 - acc: 0.8499\n",
      "Epoch 8/100\n",
      "8000/8000 [==============================] - 15s 2ms/step - loss: 0.3596 - acc: 0.8526\n",
      "Epoch 9/100\n",
      "8000/8000 [==============================] - 14s 2ms/step - loss: 0.3573 - acc: 0.8525\n",
      "Epoch 10/100\n",
      "8000/8000 [==============================] - 14s 2ms/step - loss: 0.3566 - acc: 0.8535\n",
      "Epoch 11/100\n",
      "8000/8000 [==============================] - 14s 2ms/step - loss: 0.3536 - acc: 0.8519\n",
      "Epoch 12/100\n",
      "8000/8000 [==============================] - 15s 2ms/step - loss: 0.3528 - acc: 0.8554\n",
      "Epoch 13/100\n",
      "8000/8000 [==============================] - 14s 2ms/step - loss: 0.3526 - acc: 0.8538\n",
      "Epoch 14/100\n",
      "8000/8000 [==============================] - 14s 2ms/step - loss: 0.3515 - acc: 0.8555\n",
      "Epoch 15/100\n",
      "8000/8000 [==============================] - 14s 2ms/step - loss: 0.3502 - acc: 0.8591\n",
      "Epoch 16/100\n",
      "8000/8000 [==============================] - 13s 2ms/step - loss: 0.3497 - acc: 0.8601\n",
      "Epoch 17/100\n",
      "8000/8000 [==============================] - 14s 2ms/step - loss: 0.3496 - acc: 0.8591\n",
      "Epoch 18/100\n",
      "8000/8000 [==============================] - 13s 2ms/step - loss: 0.3518 - acc: 0.8558\n",
      "Epoch 19/100\n",
      "8000/8000 [==============================] - 14s 2ms/step - loss: 0.3495 - acc: 0.8576\n",
      "Epoch 20/100\n",
      "8000/8000 [==============================] - 13s 2ms/step - loss: 0.3482 - acc: 0.8576\n",
      "Epoch 21/100\n",
      "8000/8000 [==============================] - 14s 2ms/step - loss: 0.3481 - acc: 0.8568\n",
      "Epoch 22/100\n",
      "8000/8000 [==============================] - 13s 2ms/step - loss: 0.3491 - acc: 0.8561\n",
      "Epoch 23/100\n",
      "8000/8000 [==============================] - 14s 2ms/step - loss: 0.3490 - acc: 0.8566\n",
      "Epoch 24/100\n",
      "8000/8000 [==============================] - 13s 2ms/step - loss: 0.3485 - acc: 0.8608\n",
      "Epoch 25/100\n",
      "8000/8000 [==============================] - 13s 2ms/step - loss: 0.3476 - acc: 0.8588\n",
      "Epoch 26/100\n",
      "8000/8000 [==============================] - 13s 2ms/step - loss: 0.3479 - acc: 0.8559\n",
      "Epoch 27/100\n",
      "8000/8000 [==============================] - 13s 2ms/step - loss: 0.3483 - acc: 0.8586\n",
      "Epoch 28/100\n",
      "8000/8000 [==============================] - 13s 2ms/step - loss: 0.3462 - acc: 0.8588\n",
      "Epoch 29/100\n",
      "8000/8000 [==============================] - 13s 2ms/step - loss: 0.3476 - acc: 0.8570\n",
      "Epoch 30/100\n",
      "8000/8000 [==============================] - 13s 2ms/step - loss: 0.3464 - acc: 0.8585\n",
      "Epoch 31/100\n",
      "8000/8000 [==============================] - 12s 2ms/step - loss: 0.3461 - acc: 0.8588\n",
      "Epoch 32/100\n",
      "8000/8000 [==============================] - 13s 2ms/step - loss: 0.3465 - acc: 0.8615\n",
      "Epoch 33/100\n",
      "8000/8000 [==============================] - 13s 2ms/step - loss: 0.3462 - acc: 0.8591\n",
      "Epoch 34/100\n",
      "8000/8000 [==============================] - 13s 2ms/step - loss: 0.3455 - acc: 0.8556\n",
      "Epoch 35/100\n",
      "8000/8000 [==============================] - 13s 2ms/step - loss: 0.3466 - acc: 0.8591\n",
      "Epoch 36/100\n",
      "8000/8000 [==============================] - 12s 2ms/step - loss: 0.3453 - acc: 0.8591\n",
      "Epoch 37/100\n",
      "8000/8000 [==============================] - 13s 2ms/step - loss: 0.3460 - acc: 0.8585\n",
      "Epoch 38/100\n",
      "8000/8000 [==============================] - 12s 2ms/step - loss: 0.3453 - acc: 0.8583\n",
      "Epoch 39/100\n",
      "8000/8000 [==============================] - 13s 2ms/step - loss: 0.3453 - acc: 0.8578\n",
      "Epoch 40/100\n",
      "8000/8000 [==============================] - 13s 2ms/step - loss: 0.3448 - acc: 0.8581\n",
      "Epoch 41/100\n",
      "8000/8000 [==============================] - 13s 2ms/step - loss: 0.3449 - acc: 0.8581\n",
      "Epoch 42/100\n",
      "8000/8000 [==============================] - 13s 2ms/step - loss: 0.3441 - acc: 0.8585\n",
      "Epoch 43/100\n",
      "8000/8000 [==============================] - 13s 2ms/step - loss: 0.3450 - acc: 0.8570\n",
      "Epoch 44/100\n",
      "8000/8000 [==============================] - 15s 2ms/step - loss: 0.3436 - acc: 0.8596\n",
      "Epoch 45/100\n",
      "8000/8000 [==============================] - 12s 2ms/step - loss: 0.3429 - acc: 0.8599\n",
      "Epoch 46/100\n",
      "8000/8000 [==============================] - 13s 2ms/step - loss: 0.3431 - acc: 0.8597\n",
      "Epoch 47/100\n",
      "8000/8000 [==============================] - 13s 2ms/step - loss: 0.3422 - acc: 0.8589\n",
      "Epoch 48/100\n",
      "8000/8000 [==============================] - 13s 2ms/step - loss: 0.3434 - acc: 0.8586\n",
      "Epoch 49/100\n",
      "8000/8000 [==============================] - 13s 2ms/step - loss: 0.3418 - acc: 0.8605\n",
      "Epoch 50/100\n",
      "8000/8000 [==============================] - 13s 2ms/step - loss: 0.3432 - acc: 0.8606\n",
      "Epoch 51/100\n",
      "8000/8000 [==============================] - 13s 2ms/step - loss: 0.3420 - acc: 0.8590\n",
      "Epoch 52/100\n",
      "8000/8000 [==============================] - 12s 2ms/step - loss: 0.3425 - acc: 0.8566\n",
      "Epoch 53/100\n",
      "8000/8000 [==============================] - 12s 2ms/step - loss: 0.3423 - acc: 0.8620\n",
      "Epoch 54/100\n",
      "8000/8000 [==============================] - 12s 2ms/step - loss: 0.3426 - acc: 0.8594\n",
      "Epoch 55/100\n",
      "8000/8000 [==============================] - 13s 2ms/step - loss: 0.3425 - acc: 0.8586\n",
      "Epoch 56/100\n",
      "8000/8000 [==============================] - 12s 2ms/step - loss: 0.3414 - acc: 0.8610\n",
      "Epoch 57/100\n",
      "8000/8000 [==============================] - 13s 2ms/step - loss: 0.3435 - acc: 0.8600\n",
      "Epoch 58/100\n",
      "8000/8000 [==============================] - 13s 2ms/step - loss: 0.3420 - acc: 0.8606\n",
      "Epoch 59/100\n",
      "8000/8000 [==============================] - 13s 2ms/step - loss: 0.3429 - acc: 0.8588\n",
      "Epoch 60/100\n",
      "8000/8000 [==============================] - 13s 2ms/step - loss: 0.3416 - acc: 0.8611\n",
      "Epoch 61/100\n",
      "8000/8000 [==============================] - 13s 2ms/step - loss: 0.3406 - acc: 0.8571\n",
      "Epoch 62/100\n",
      "8000/8000 [==============================] - 13s 2ms/step - loss: 0.3416 - acc: 0.8602\n",
      "Epoch 63/100\n",
      "8000/8000 [==============================] - 13s 2ms/step - loss: 0.3425 - acc: 0.8596\n",
      "Epoch 64/100\n",
      "8000/8000 [==============================] - 12s 2ms/step - loss: 0.3416 - acc: 0.8584\n",
      "Epoch 65/100\n",
      "8000/8000 [==============================] - 13s 2ms/step - loss: 0.3420 - acc: 0.8586\n",
      "Epoch 66/100\n",
      "8000/8000 [==============================] - 12s 2ms/step - loss: 0.3407 - acc: 0.8600\n",
      "Epoch 67/100\n",
      "8000/8000 [==============================] - 13s 2ms/step - loss: 0.3409 - acc: 0.8565\n",
      "Epoch 68/100\n",
      "8000/8000 [==============================] - 12s 1ms/step - loss: 0.3414 - acc: 0.8597\n",
      "Epoch 69/100\n",
      "8000/8000 [==============================] - 13s 2ms/step - loss: 0.3417 - acc: 0.8611\n",
      "Epoch 70/100\n",
      "8000/8000 [==============================] - 12s 2ms/step - loss: 0.3415 - acc: 0.8610\n",
      "Epoch 71/100\n",
      "8000/8000 [==============================] - 13s 2ms/step - loss: 0.3409 - acc: 0.8574\n",
      "Epoch 72/100\n",
      "8000/8000 [==============================] - 13s 2ms/step - loss: 0.3402 - acc: 0.8583\n",
      "Epoch 73/100\n",
      "8000/8000 [==============================] - 13s 2ms/step - loss: 0.3411 - acc: 0.8619\n",
      "Epoch 74/100\n",
      "8000/8000 [==============================] - 13s 2ms/step - loss: 0.3419 - acc: 0.8610\n",
      "Epoch 75/100\n",
      "8000/8000 [==============================] - 13s 2ms/step - loss: 0.3411 - acc: 0.8596\n",
      "Epoch 76/100\n",
      "8000/8000 [==============================] - 13s 2ms/step - loss: 0.3409 - acc: 0.8590\n",
      "Epoch 77/100\n",
      "8000/8000 [==============================] - 13s 2ms/step - loss: 0.3410 - acc: 0.8640\n",
      "Epoch 78/100\n",
      "8000/8000 [==============================] - 13s 2ms/step - loss: 0.3413 - acc: 0.8581\n",
      "Epoch 79/100\n",
      "8000/8000 [==============================] - 13s 2ms/step - loss: 0.3419 - acc: 0.8600\n",
      "Epoch 80/100\n",
      "8000/8000 [==============================] - 12s 2ms/step - loss: 0.3414 - acc: 0.8597\n",
      "Epoch 81/100\n",
      "8000/8000 [==============================] - 13s 2ms/step - loss: 0.3416 - acc: 0.8601\n",
      "Epoch 82/100\n"
     ]
    },
    {
     "name": "stdout",
     "output_type": "stream",
     "text": [
      "8000/8000 [==============================] - 13s 2ms/step - loss: 0.3405 - acc: 0.8608\n",
      "Epoch 83/100\n",
      "8000/8000 [==============================] - 14s 2ms/step - loss: 0.3412 - acc: 0.8621\n",
      "Epoch 84/100\n",
      "8000/8000 [==============================] - 14s 2ms/step - loss: 0.3407 - acc: 0.8620\n",
      "Epoch 85/100\n",
      "8000/8000 [==============================] - 14s 2ms/step - loss: 0.3406 - acc: 0.8600\n",
      "Epoch 86/100\n",
      "8000/8000 [==============================] - 14s 2ms/step - loss: 0.3400 - acc: 0.8600\n",
      "Epoch 87/100\n",
      "8000/8000 [==============================] - 14s 2ms/step - loss: 0.3392 - acc: 0.8616\n",
      "Epoch 88/100\n",
      "8000/8000 [==============================] - 14s 2ms/step - loss: 0.3405 - acc: 0.8609\n",
      "Epoch 89/100\n",
      "8000/8000 [==============================] - 14s 2ms/step - loss: 0.3396 - acc: 0.8600\n",
      "Epoch 90/100\n",
      "8000/8000 [==============================] - 14s 2ms/step - loss: 0.3413 - acc: 0.8579\n",
      "Epoch 91/100\n",
      "8000/8000 [==============================] - 13s 2ms/step - loss: 0.3412 - acc: 0.8591\n",
      "Epoch 92/100\n",
      "8000/8000 [==============================] - 14s 2ms/step - loss: 0.3394 - acc: 0.8595\n",
      "Epoch 93/100\n",
      "8000/8000 [==============================] - 13s 2ms/step - loss: 0.3400 - acc: 0.8606\n",
      "Epoch 94/100\n",
      "8000/8000 [==============================] - 14s 2ms/step - loss: 0.3404 - acc: 0.8621\n",
      "Epoch 95/100\n",
      "8000/8000 [==============================] - 13s 2ms/step - loss: 0.3398 - acc: 0.8628\n",
      "Epoch 96/100\n",
      "8000/8000 [==============================] - 14s 2ms/step - loss: 0.3400 - acc: 0.8601\n",
      "Epoch 97/100\n",
      "8000/8000 [==============================] - 13s 2ms/step - loss: 0.3392 - acc: 0.8628\n",
      "Epoch 98/100\n",
      "8000/8000 [==============================] - 14s 2ms/step - loss: 0.3400 - acc: 0.8616\n",
      "Epoch 99/100\n",
      "8000/8000 [==============================] - 14s 2ms/step - loss: 0.3405 - acc: 0.8608\n",
      "Epoch 100/100\n",
      "8000/8000 [==============================] - 13s 2ms/step - loss: 0.3393 - acc: 0.8615\n"
     ]
    },
    {
     "data": {
      "text/plain": [
       "<keras.callbacks.History at 0x202bb5ba630>"
      ]
     },
     "execution_count": 24,
     "metadata": {},
     "output_type": "execute_result"
    }
   ],
   "source": [
    "# Fitting the ANN to the training set\n",
    "classifier.fit(X_train, y_train, batch_size=1, epochs=100)"
   ]
  },
  {
   "cell_type": "markdown",
   "metadata": {},
   "source": [
    "## Part III - Making the predictions and evaluating the model"
   ]
  },
  {
   "cell_type": "code",
   "execution_count": 25,
   "metadata": {},
   "outputs": [],
   "source": [
    "# predicting the Test set results\n",
    "y_pred = classifier.predict(X_test)"
   ]
  },
  {
   "cell_type": "code",
   "execution_count": 26,
   "metadata": {},
   "outputs": [
    {
     "name": "stdout",
     "output_type": "stream",
     "text": [
      "[[0.20473348]\n",
      " [0.29808107]\n",
      " [0.16785046]\n",
      " ...\n",
      " [0.15867671]\n",
      " [0.11815   ]\n",
      " [0.26064718]]\n"
     ]
    }
   ],
   "source": [
    "print(y_pred)"
   ]
  },
  {
   "cell_type": "markdown",
   "metadata": {},
   "source": [
    "# Making the Confusion Matrix"
   ]
  },
  {
   "cell_type": "code",
   "execution_count": 27,
   "metadata": {},
   "outputs": [],
   "source": [
    "# convert percentage into True or False format\n",
    "y_pred = (y_pred > 0.5)"
   ]
  },
  {
   "cell_type": "code",
   "execution_count": 37,
   "metadata": {},
   "outputs": [],
   "source": [
    "import itertools\n",
    "\n",
    "def plot_confusion_matrix(cm, classes,\n",
    "                          normalize=False,\n",
    "                          title='Confusion matrix',\n",
    "                          cmap=plt.cm.Blues):\n",
    "    \"\"\"\n",
    "    This function prints and plots the confusion matrix.\n",
    "    Normalization can be applied by setting `normalize=True`.\n",
    "    \"\"\"\n",
    "    plt.imshow(cm, interpolation='nearest', cmap=cmap)\n",
    "    plt.title(title)\n",
    "    plt.colorbar()\n",
    "    tick_marks = np.arange(len(classes))\n",
    "    plt.xticks(tick_marks, classes, rotation=0)\n",
    "    plt.yticks(tick_marks, classes)\n",
    "\n",
    "    if normalize:\n",
    "        cm = cm.astype('float') / cm.sum(axis=1)[:, np.newaxis]\n",
    "        #print(\"Normalized confusion matrix\")\n",
    "    else:\n",
    "        1#print('Confusion matrix, without normalization')\n",
    "    \n",
    "    #print(cm)\n",
    "\n",
    "    thresh = cm.max() / 2.\n",
    "    for i, j in itertools.product(range(cm.shape[0]), range(cm.shape[1])):\n",
    "        plt.text(j, i, cm[i, j],\n",
    "                 horizontalalignment=\"center\",\n",
    "                 color=\"white\" if cm[i, j] > thresh else \"black\")\n",
    "\n",
    "    plt.tight_layout()\n",
    "    plt.ylabel('True label')\n",
    "    plt.xlabel('Predicted label')"
   ]
  },
  {
   "cell_type": "code",
   "execution_count": 49,
   "metadata": {},
   "outputs": [
    {
     "name": "stdout",
     "output_type": "stream",
     "text": [
      "Recall metric in the testing dataset:  0.5234567901234568\n"
     ]
    },
    {
     "data": {
      "image/png": "[encoded data removed]",
      "text/plain": [
       "<Figure size 432x288 with 2 Axes>"
      ]
     },
     "metadata": {
      "needs_background": "light"
     },
     "output_type": "display_data"
    }
   ],
   "source": [
    "from sklearn.metrics import confusion_matrix\n",
    "import matplotlib.pyplot as plt\n",
    "cm = confusion_matrix(y_test, y_pred)\n",
    "np.set_printoptions(precision=2)\n",
    "\n",
    "print(\"Recall metric in the testing dataset: \", cm[1,1]/(cm[1,1]+cm[1,0]))\n",
    "\n",
    "\n",
    "# Plot non-normalized confusion matrix\n",
    "class_names = [0,1]\n",
    "plt.figure()\n",
    "plot_confusion_matrix(cm\n",
    "                      , classes=class_names\n",
    "                      , title='Confusion matrix')\n",
    "plt.show()"
   ]
  },
  {
   "cell_type": "code",
   "execution_count": 51,
   "metadata": {},
   "outputs": [
    {
     "name": "stdout",
     "output_type": "stream",
     "text": [
      "Accuracy metric in the testing dataset:  0.866\n"
     ]
    }
   ],
   "source": [
    "print(\"Accuracy metric in the testing dataset: \", (cm[0,0]+cm[1,1])/2000)"
   ]
  },
  {
   "cell_type": "markdown",
   "metadata": {},
   "source": [
    "## Predicting a single new observation\n",
    "\n",
    "predict if the customer with the following information will leave the bank:\n",
    " \n",
    " - Geography: France\n",
    " - Credit Score: 600\n",
    " - Gender: Male\n",
    " - Age: 40\n",
    " - Tenure: 3\n",
    " - Banlance: 60000\n",
    " - Number of Products: 2\n",
    " - Has Credit Card: yes\n",
    " - Is Active Member: yes\n",
    " - Estimated Salary: 50000"
   ]
  },
  {
   "cell_type": "code",
   "execution_count": 31,
   "metadata": {},
   "outputs": [],
   "source": [
    "new_prediction = classifier.predict(sc.transform(np.array([[0.0, 0, 600, 1, 40, 3, 60000, 2, 1, 1, 50000]])))\n",
    "# 1.[] column , [[]] row; 2.sc.transform; 3. 0.0\n",
    "new_prediction = (new_prediction > 0.5)"
   ]
  },
  {
   "cell_type": "code",
   "execution_count": 32,
   "metadata": {},
   "outputs": [
    {
     "name": "stdout",
     "output_type": "stream",
     "text": [
      "[[False]]\n"
     ]
    }
   ],
   "source": [
    "print(new_prediction)"
   ]
  },
  {
   "cell_type": "markdown",
   "metadata": {},
   "source": [
    "Here it shows the customer would not leave the bank"
   ]
  },
  {
   "cell_type": "code",
   "execution_count": null,
   "metadata": {},
   "outputs": [],
   "source": []
  }
 ],
 "metadata": {
  "kernelspec": {
   "display_name": "Python 3",
   "language": "python",
   "name": "python3"
  },
  "language_info": {
   "codemirror_mode": {
    "name": "ipython",
    "version": 3
   },
   "file_extension": ".py",
   "mimetype": "text/x-python",
   "name": "python",
   "nbconvert_exporter": "python",
   "pygments_lexer": "ipython3",
   "version": "3.6.7"
  },
  "latex_envs": {
   "LaTeX_envs_menu_present": true,
   "autoclose": false,
   "autocomplete": true,
   "bibliofile": "biblio.bib",
   "cite_by": "apalike",
   "current_citInitial": 1,
   "eqLabelWithNumbers": true,
   "eqNumInitial": 1,
   "hotkeys": {
    "equation": "Ctrl-E",
    "itemize": "Ctrl-I"
   },
   "labels_anchors": false,
   "latex_user_defs": false,
   "report_style_numbering": false,
   "user_envs_cfg": false
  },
  "toc": {
   "base_numbering": 1,
   "nav_menu": {},
   "number_sections": false,
   "sideBar": true,
   "skip_h1_title": false,
   "title_cell": "Table of Contents",
   "title_sidebar": "Contents",
   "toc_cell": false,
   "toc_position": {
    "height": "calc(100% - 180px)",
    "left": "10px",
    "top": "150px",
    "width": "165px"
   },
   "toc_section_display": true,
   "toc_window_display": true
  }
 },
 "nbformat": 4,
 "nbformat_minor": 2
}
